{
 "cells": [
  {
   "cell_type": "code",
   "execution_count": 17,
   "metadata": {},
   "outputs": [],
   "source": [
    "import skimage\n",
    "\n",
    "import matplotlib.pyplot as plt\n",
    "import numpy as np\n",
    "\n",
    "from PIL import Image\n",
    "from skimage import exposure\n",
    "from skimage.feature import canny\n",
    "from scipy import ndimage as ndi\n",
    "from skimage import filters\n",
    "from skimage import img_as_ubyte"
   ]
  },
  {
   "cell_type": "code",
   "execution_count": 3,
   "metadata": {},
   "outputs": [],
   "source": [
    "def imageHistogram(myImage):\n",
    "    if isinstance(myImage,(np.ndarray)):\n",
    "        myImage = Image.fromarray(myImage)\n",
    "    plt.hist(list(myImage.getdata()), bins=255, range=(0,255))\n",
    "    plt.show()"
   ]
  },
  {
   "cell_type": "code",
   "execution_count": 4,
   "metadata": {},
   "outputs": [],
   "source": [
    "def histogramEqualization(myImage):\n",
    "    equalizedImage= exposure.equalize_hist(myImage)\n",
    "    #skimage.io.imshow(equalizedImage)\n",
    "    return equalizedImage"
   ]
  },
  {
   "cell_type": "code",
   "execution_count": 5,
   "metadata": {},
   "outputs": [],
   "source": [
    "def histogramAdaptEqualization(myImage):\n",
    "    adaptedImage = exposure.equalize_adapthist(myImage)\n",
    "    return adaptedImage"
   ]
  },
  {
   "cell_type": "code",
   "execution_count": 21,
   "metadata": {},
   "outputs": [
    {
     "name": "stdout",
     "output_type": "stream",
     "text": [
      "[[116 119 127 ... 226 219 232]\n",
      " [108 108 112 ... 226 226 236]\n",
      " [112 108 108 ... 219 219 232]\n",
      " ...\n",
      " [ 82  81  81 ... 150 166 166]\n",
      " [ 81  79  78 ... 150 157 161]\n",
      " [ 81  79  78 ... 161 157 172]]\n"
     ]
    },
    {
     "data": {
      "image/png": "[encoded data removed]",
      "text/plain": [
       "<Figure size 432x288 with 1 Axes>"
      ]
     },
     "metadata": {
      "needs_background": "light"
     },
     "output_type": "display_data"
    },
    {
     "data": {
      "image/png": "[encoded data removed]",
      "text/plain": [
       "<Figure size 432x288 with 1 Axes>"
      ]
     },
     "metadata": {
      "needs_background": "light"
     },
     "output_type": "display_data"
    }
   ],
   "source": [
    "myImage = skimage.io.imread(r\"Malarai_5slices_sl1_ch1_p1_t1_copy.jpeg\")\n",
    "he = histogramEqualization(myImage)\n",
    "eb = img_as_ubyte(he)\n",
    "print(eb)\n",
    "hist1 = imageHistogram(myImage)\n",
    "plt.hist(eb.ravel(), bins=256)\n",
    "plt.show()"
   ]
  },
  {
   "cell_type": "code",
   "execution_count": null,
   "metadata": {},
   "outputs": [],
   "source": [
    "from matplotlib.pyplot import figure\n",
    "img = skimage.io.imread(r\"Malarai_5slices_sl1_ch1_p1_t1_copy.jpeg\")\n",
    "img_eq = exposure.equalize_hist(img)\n",
    "\n",
    "img2 = skimage.io.imread(r\"Malarai_5slices_sl1_ch1_p1_t1_copy.jpeg\")\n",
    "img_adapt_hist = exposure.equalize_adapthist(img2)\n",
    "\n",
    "\n",
    "hist, axes = plt.subplots(2, figsize=(16,12))\n",
    "\n",
    "axes[0].imshow(img_adapt_hist, cmap='gray')\n",
    "axes[1].imshow(img_eq, cmap='gray')"
   ]
  },
  {
   "cell_type": "code",
   "execution_count": null,
   "metadata": {},
   "outputs": [],
   "source": [
    "image = skimage.io.imread('Malarai_5slices_sl1_ch1_p1_t1_copy.jpeg')\n",
    "edges = canny(image, 2,1,25)\n",
    "#skimage.io.imshow(edges)\n",
    "segmentEdges = ndi.binary_fill_holes(edges)\n",
    "skimage.io.imshow(segmentEdges)"
   ]
  },
  {
   "cell_type": "code",
   "execution_count": null,
   "metadata": {},
   "outputs": [],
   "source": [
    "def thresholdImage2(picture):\n",
    "    image_threshold = filters.threshold_otsu(picture)\n",
    "    image_array = picture < image_threshold\n",
    "    imageHistogram(image_array)\n",
    "    return image_array\n",
    "    "
   ]
  },
  {
   "cell_type": "code",
   "execution_count": null,
   "metadata": {},
   "outputs": [],
   "source": [
    "read_image = skimage.io.imread(\"Malarai_5slices_sl1_ch1_p1_t1_copy.jpeg\")\n",
    "original_thresholded=thresholdImage2(read_image)\n",
    "equalized_image=histogramEqualization(read_image)\n",
    "adapted_image=histogramAdaptEqualization(read_image)\n",
    "thresholded_image=thresholdImage2(equalized_image)\n",
    "thresholded_image2=thresholdImage2(adapted_image)\n",
    "segment_edges = ndi.binary_fill_holes(thresholded_image)\n",
    "segment_edges2 = ndi.binary_fill_holes(original_thresholded)\n",
    "segment_edges3 = ndi.binary_fill_holes(thresholded_image2)\n",
    "\n",
    "hist, axes = plt.subplots(9, figsize=(64,48))\n",
    "axes[0].imshow(read_image, cmap='gray')\n",
    "axes[1].imshow(original_thresholded, cmap='gray')\n",
    "axes[2].imshow(segment_edges2, cmap='gray')\n",
    "axes[3].imshow(equalized_image, cmap='gray')\n",
    "axes[4].imshow(thresholded_image, cmap='gray')\n",
    "axes[5].imshow(segment_edges, cmap='gray')\n",
    "axes[6].imshow(adapted_image, cmap='gray')\n",
    "axes[7].imshow(thresholded_image2, cmap='gray')\n",
    "axes[8].imshow(segment_edges3, cmap='gray')"
   ]
  },
  {
   "cell_type": "code",
   "execution_count": null,
   "metadata": {},
   "outputs": [],
   "source": [
    "img = skimage.io.imread('/Users/reganlamoureux/Downloads/troph.tif')\n",
    "eq_img= exposure.equalize_hist(img)\n",
    "ax1 = plt.subplot(131)\n",
    "ax1.imshow(img)\n",
    "ax2 = plt.subplot(132)\n",
    "ax2.imshow(eq_img)"
   ]
  },
  {
   "cell_type": "code",
   "execution_count": null,
   "metadata": {},
   "outputs": [],
   "source": []
  }
 ],
 "metadata": {
  "kernelspec": {
   "display_name": "Python 3",
   "language": "python",
   "name": "python3"
  },
  "language_info": {
   "codemirror_mode": {
    "name": "ipython",
    "version": 3
   },
   "file_extension": ".py",
   "mimetype": "text/x-python",
   "name": "python",
   "nbconvert_exporter": "python",
   "pygments_lexer": "ipython3",
   "version": "3.7.3"
  }
 },
 "nbformat": 4,
 "nbformat_minor": 2
}
