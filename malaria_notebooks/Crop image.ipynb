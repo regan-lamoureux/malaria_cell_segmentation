{
 "cells": [
  {
   "cell_type": "code",
   "execution_count": 4,
   "metadata": {},
   "outputs": [],
   "source": [
    "from scipy import ndimage as ndi\n",
    "import matplotlib.pyplot as plt\n",
    "import matplotlib.patches as mpatches\n",
    "import numpy as np\n",
    "\n",
    "import skimage\n",
    "\n",
    "from skimage.morphology import watershed, disk, skeletonize\n",
    "from skimage import measure\n",
    "from skimage import exposure\n",
    "from skimage import filters"
   ]
  },
  {
   "cell_type": "code",
   "execution_count": 5,
   "metadata": {},
   "outputs": [],
   "source": [
    "def connected_component_labels(image_array):\n",
    "    filled_image = ndi.binary_fill_holes(image_array)\n",
    "    label_image = measure.label(filled_image, background=0)\n",
    "    thresholded_image = thresholdImage2(label_image)\n",
    "    plt.figure(figsize=(18, 7))\n",
    "    ax = plt.subplot(131)\n",
    "    ax.imshow(image_array, cmap='gray')\n",
    "    ax.axis('off')\n",
    "    \n",
    "    ax2 = plt.subplot(132)\n",
    "    ax2.imshow(label_image, cmap='nipy_spectral')\n",
    "    \n",
    "    my_list = []\n",
    "    counter = 0\n",
    "    for cell in measure.regionprops(label_image):\n",
    "        if cell.area>1000:\n",
    "            my_cell = cell\n",
    "            center_of_mass_y, center_of_mass_x = cell.centroid\n",
    "            #ax2.scatter(center_of_mass_x, center_of_mass_y, c='white')\n",
    "            my_list.append((center_of_mass_x, center_of_mass_y))\n",
    "        counter = counter + 1\n",
    "    print(len(my_list))\n",
    "        \n",
    "    skeletonized_image = skeletonize(image_array)\n",
    "    return label_image"
   ]
  },
  {
   "cell_type": "code",
   "execution_count": 6,
   "metadata": {},
   "outputs": [],
   "source": [
    "def crop_image(image):\n",
    "    print(image.shape)\n",
    "    counter = 1\n",
    "    reg_props = measure.regionprops(image)\n",
    "    my_objects = ndi.find_objects(image)\n",
    "    for cell, cur_slice in zip(reg_props, my_objects):\n",
    "        if cell.area>1000:\n",
    "            minr, minc, maxr, maxc = cell.bbox\n",
    "            #rect = mpatches.Rectangle((minc, minr), maxc - minc, maxr - minr,\n",
    "                                  #fill=False, edgecolor='red', linewidth=2)\n",
    "                \n",
    "            x, y, w, h = minr-5, minc-5, maxr+5, maxc+5 # make the box a little bigger\n",
    "            print(x, y, w, h)\n",
    "            if y<0:\n",
    "                y = 0\n",
    "            if x<0:\n",
    "                x = 0\n",
    "            if h > 696:\n",
    "                h = 696\n",
    "            if w>520:\n",
    "                w=520\n",
    "            print('-----')\n",
    "            print(x, y, w, h)\n",
    "            cropped_image = image[x:w, y:h]\n",
    "            plt.imsave('newest_cropped_image{}.jpeg'.format(counter), cropped_image)\n",
    "            \n",
    "        counter = counter + 1\n",
    "        "
   ]
  },
  {
   "cell_type": "code",
   "execution_count": 7,
   "metadata": {},
   "outputs": [],
   "source": [
    "def thresholdImage2(picture):\n",
    "    #newImage = Image.new(picture.mode, picture.size)\n",
    "    image = np.asanyarray(picture)\n",
    "    imageThreshold = filters.threshold_otsu(image)\n",
    "    image_array = image < imageThreshold\n",
    "    return image_array"
   ]
  },
  {
   "cell_type": "code",
   "execution_count": 8,
   "metadata": {},
   "outputs": [
    {
     "name": "stdout",
     "output_type": "stream",
     "text": [
      "17\n",
      "(520, 696)\n",
      "-5 311 31 399\n",
      "-----\n",
      "0 311 31 399\n",
      "-5 474 34 565\n",
      "-----\n",
      "0 474 34 565\n",
      "11 550 99 643\n",
      "-----\n",
      "11 550 99 643\n",
      "16 431 114 540\n",
      "-----\n",
      "16 431 114 540\n",
      "114 431 217 526\n",
      "-----\n",
      "114 431 217 526\n",
      "146 330 228 410\n",
      "-----\n",
      "146 330 228 410\n",
      "207 381 302 480\n",
      "-----\n",
      "207 381 302 480\n",
      "262 470 352 562\n",
      "-----\n",
      "262 470 352 562\n",
      "280 69 373 162\n",
      "-----\n",
      "280 69 373 162\n",
      "282 324 359 404\n",
      "-----\n",
      "282 324 359 404\n",
      "301 -5 399 47\n",
      "-----\n",
      "301 0 399 47\n",
      "339 225 436 316\n",
      "-----\n",
      "339 225 436 316\n",
      "347 500 447 588\n",
      "-----\n",
      "347 500 447 588\n",
      "388 417 473 505\n",
      "-----\n",
      "388 417 473 505\n",
      "410 36 493 117\n",
      "-----\n",
      "410 36 493 117\n",
      "451 95 525 191\n",
      "-----\n",
      "451 95 520 191\n",
      "464 338 525 420\n",
      "-----\n",
      "464 338 520 420\n"
     ]
    },
    {
     "data": {
      "image/png": "[encoded data removed]",
      "text/plain": [
       "<Figure size 432x288 with 1 Axes>"
      ]
     },
     "metadata": {
      "needs_background": "light"
     },
     "output_type": "display_data"
    },
    {
     "data": {
      "image/png": "[encoded data removed]",
      "text/plain": [
       "<Figure size 1296x504 with 2 Axes>"
      ]
     },
     "metadata": {
      "needs_background": "light"
     },
     "output_type": "display_data"
    }
   ],
   "source": [
    "image = skimage.io.imread('Malaria_5Slices_sl1_ch1_p23_t1.png')\n",
    "threshold_image = thresholdImage2(image)\n",
    "skeletonized_image = skeletonize(threshold_image)\n",
    "plt.imshow(skeletonized_image, cmap='gray')\n",
    "connected_image = connected_component_labels(threshold_image)\n",
    "crop_image(connected_image)"
   ]
  },
  {
   "cell_type": "code",
   "execution_count": null,
   "metadata": {},
   "outputs": [],
   "source": []
  },
  {
   "cell_type": "code",
   "execution_count": null,
   "metadata": {},
   "outputs": [],
   "source": []
  }
 ],
 "metadata": {
  "kernelspec": {
   "display_name": "Python 3",
   "language": "python",
   "name": "python3"
  },
  "language_info": {
   "codemirror_mode": {
    "name": "ipython",
    "version": 3
   },
   "file_extension": ".py",
   "mimetype": "text/x-python",
   "name": "python",
   "nbconvert_exporter": "python",
   "pygments_lexer": "ipython3",
   "version": "3.7.3"
  }
 },
 "nbformat": 4,
 "nbformat_minor": 2
}
